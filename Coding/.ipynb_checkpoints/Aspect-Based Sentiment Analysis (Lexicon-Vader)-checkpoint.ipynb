{
 "cells": [
  {
   "cell_type": "code",
   "execution_count": 1,
   "id": "3dff8496",
   "metadata": {},
   "outputs": [],
   "source": [
    "import pandas as pd\n",
    "import matplotlib.pyplot as plt\n",
    "from nltk.sentiment.vader import SentimentIntensityAnalyzer\n",
    "from tqdm import tqdm"
   ]
  },
  {
   "cell_type": "code",
   "execution_count": 2,
   "id": "834313a2",
   "metadata": {},
   "outputs": [],
   "source": [
    "# Load the dataset with the \"Extracted_Aspects\" column and 'Tokenized_Review' column for tokenized reviews\n",
    "dataset = pd.read_csv('updated_dataset_no_missing.csv')"
   ]
  },
  {
   "cell_type": "code",
   "execution_count": 3,
   "id": "f5fd0a54",
   "metadata": {},
   "outputs": [],
   "source": [
    "# Initialize a sentiment analyzer (VADER)\n",
    "analyzer = SentimentIntensityAnalyzer()"
   ]
  },
  {
   "cell_type": "code",
   "execution_count": 4,
   "id": "1b2ffc94",
   "metadata": {},
   "outputs": [],
   "source": [
    "# Function to calculate sentiment scores for a review based on the \"Extracted_Aspects\"\n",
    "def calculate_sentiment(review, aspects):\n",
    "    sentiment_scores = {'positive': [], 'neutral': [], 'negative': []}\n",
    "    for aspect in aspects:\n",
    "        sentiment = analyzer.polarity_scores(aspect)\n",
    "        compound_score = sentiment['compound']\n",
    "\n",
    "        if compound_score >= 0.1:\n",
    "            sentiment_scores['positive'].append(compound_score)\n",
    "        elif -0.1 < compound_score < 0.1:\n",
    "            sentiment_scores['neutral'].append(compound_score)\n",
    "        else:\n",
    "            sentiment_scores['negative'].append(compound_score)\n",
    "    \n",
    "    return sentiment_scores"
   ]
  },
  {
   "cell_type": "code",
   "execution_count": 5,
   "id": "2f0c778e",
   "metadata": {},
   "outputs": [],
   "source": [
    "# Function to calculate sentiment scores for tokenized reviews in list form\n",
    "def calculate_sentiment_tokenized(review_tokens):\n",
    "    sentiment = analyzer.polarity_scores(' '.join(review_tokens))\n",
    "    compound_score = sentiment['compound']\n",
    "\n",
    "    if compound_score >= 0.1:\n",
    "        return {'positive': [compound_score], 'neutral': [], 'negative': []}\n",
    "    elif -0.1 < compound_score < 0.1:\n",
    "        return {'positive': [], 'neutral': [compound_score], 'negative': []}\n",
    "    else:\n",
    "        return {'positive': [], 'neutral': [], 'negative': [compound_score]}"
   ]
  },
  {
   "cell_type": "code",
   "execution_count": 6,
   "id": "fc7aef54",
   "metadata": {},
   "outputs": [],
   "source": [
    "# Function to determine the label based on sentiment scores\n",
    "def determine_label(sentiment_scores):\n",
    "    if sentiment_scores['positive']:\n",
    "        return 'positive'\n",
    "    elif sentiment_scores['negative']:\n",
    "        return 'negative'\n",
    "    else:\n",
    "        return 'neutral'"
   ]
  },
  {
   "cell_type": "code",
   "execution_count": 7,
   "id": "4de867af",
   "metadata": {},
   "outputs": [],
   "source": [
    "# Function to compare the generated label with the existing label\n",
    "def compare_labels(row):\n",
    "    generated_label = row['Label']\n",
    "    existing_label = row['Label( Based on Rating)']\n",
    "    return generated_label == existing_label"
   ]
  },
  {
   "cell_type": "code",
   "execution_count": 8,
   "id": "16422bc7",
   "metadata": {},
   "outputs": [],
   "source": [
    "# Calculate sentiment scores and labels for each row\n",
    "tqdm.pandas(desc=\"Calculating Sentiments and Labels\")\n",
    "\n",
    "def calculate_sentiment_and_label(row):\n",
    "    extracted_aspects = str(row['Extracted_Aspects']).split(', ')\n",
    "    \n",
    "    if not extracted_aspects:\n",
    "        sentiment_scores = calculate_sentiment_tokenized(row['Tokenized_Review'])\n",
    "    else:\n",
    "        sentiment_scores = calculate_sentiment(row['Review'], extracted_aspects)\n",
    "    \n",
    "    label = determine_label(sentiment_scores)\n",
    "    \n",
    "    return sentiment_scores, label"
   ]
  },
  {
   "cell_type": "code",
   "execution_count": 9,
   "id": "85bcf194",
   "metadata": {},
   "outputs": [
    {
     "name": "stderr",
     "output_type": "stream",
     "text": [
      "Calculating Sentiments, Labels, and Comparing: 100%|██████████| 24845/24845 [00:02<00:00, 10628.54it/s]\n"
     ]
    }
   ],
   "source": [
    "# Apply sentiment score and label calculation to the dataset\n",
    "tqdm.pandas(desc=\"Calculating Sentiments, Labels, and Comparing\")\n",
    "dataset[['Sentiment_Scores', 'Label']] = dataset.progress_apply(calculate_sentiment_and_label, axis=1, result_type='expand')"
   ]
  },
  {
   "cell_type": "code",
   "execution_count": 10,
   "id": "4d2f6320",
   "metadata": {},
   "outputs": [
    {
     "name": "stderr",
     "output_type": "stream",
     "text": [
      "Calculating Sentiments, Labels, and Comparing: 100%|██████████| 24845/24845 [00:00<00:00, 121614.11it/s]\n"
     ]
    }
   ],
   "source": [
    "# Apply label comparison\n",
    "dataset['Label_Match'] = dataset.progress_apply(compare_labels, axis=1)"
   ]
  },
  {
   "cell_type": "code",
   "execution_count": 11,
   "id": "5f17f24c",
   "metadata": {},
   "outputs": [
    {
     "data": {
      "image/png": "[encoded data removed]",
      "text/plain": [
       "<Figure size 800x600 with 1 Axes>"
      ]
     },
     "metadata": {},
     "output_type": "display_data"
    }
   ],
   "source": [
    "# Count the True and False occurrences\n",
    "label_match_counts = dataset['Label_Match'].value_counts()\n",
    "\n",
    "# Plotting the bar chart\n",
    "plt.figure(figsize=(8, 6))\n",
    "label_match_counts.plot(kind='bar', color=['blue', 'orange'])\n",
    "plt.title('Comparison of Generated Labels and Existing Labels')\n",
    "plt.xlabel('Label Match')\n",
    "plt.ylabel('Frequency')\n",
    "plt.xticks([0, 1], ['True', 'False'], rotation=0)\n",
    "plt.show()"
   ]
  },
  {
   "cell_type": "code",
   "execution_count": 12,
   "id": "c332b21a",
   "metadata": {},
   "outputs": [],
   "source": [
    "# Specify the file path for the output\n",
    "output_file = 'sentiment_analysis_results-vader.csv'"
   ]
  },
  {
   "cell_type": "code",
   "execution_count": 13,
   "id": "af970b73",
   "metadata": {},
   "outputs": [
    {
     "name": "stdout",
     "output_type": "stream",
     "text": [
      "Sentiment analysis results have been saved to 'sentiment_analysis_results-vader.csv'.\n"
     ]
    }
   ],
   "source": [
    "# Save the results to the output file\n",
    "dataset.to_csv(output_file, index=False)\n",
    "\n",
    "print(f\"Sentiment analysis results have been saved to '{output_file}'.\")"
   ]
  },
  {
   "cell_type": "code",
   "execution_count": null,
   "id": "4a06ad8b",
   "metadata": {},
   "outputs": [],
   "source": []
  }
 ],
 "metadata": {
  "kernelspec": {
   "display_name": "Python 3 (ipykernel)",
   "language": "python",
   "name": "python3"
  },
  "language_info": {
   "codemirror_mode": {
    "name": "ipython",
    "version": 3
   },
   "file_extension": ".py",
   "mimetype": "text/x-python",
   "name": "python",
   "nbconvert_exporter": "python",
   "pygments_lexer": "ipython3",
   "version": "3.11.5"
  }
 },
 "nbformat": 4,
 "nbformat_minor": 5
}
