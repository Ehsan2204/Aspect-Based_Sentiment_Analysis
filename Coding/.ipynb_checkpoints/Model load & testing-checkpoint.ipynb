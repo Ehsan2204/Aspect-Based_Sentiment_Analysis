{
 "cells": [
  {
   "cell_type": "code",
   "execution_count": null,
   "id": "bdc417b5",
   "metadata": {},
   "outputs": [],
   "source": [
    "import tensorflow as tf\n",
    "from tensorflow.keras.preprocessing.text import Tokenizer\n",
    "from tensorflow.keras.preprocessing.sequence import pad_sequences"
   ]
  },
  {
   "cell_type": "code",
   "execution_count": null,
   "id": "b694359a",
   "metadata": {},
   "outputs": [],
   "source": [
    "# Load the saved model\n",
    "model = tf.keras.models.load_model('sentiment_analysis_model')"
   ]
  },
  {
   "cell_type": "code",
   "execution_count": null,
   "id": "006bd270",
   "metadata": {},
   "outputs": [],
   "source": [
    "# Load tokenizer and word index\n",
    "tokenizer = Tokenizer()\n",
    "tokenizer_config = 'tokenizer_config.json'  # Update this with your tokenizer configuration file\n",
    "with open(tokenizer_config, 'r') as f:\n",
    "    tokenizer_config = f.read()\n",
    "tokenizer.from_config(tokenizer_config)"
   ]
  },
  {
   "cell_type": "code",
   "execution_count": null,
   "id": "61eb32c2",
   "metadata": {},
   "outputs": [],
   "source": [
    "# Function to perform sentiment analysis on user input\n",
    "def analyze_sentiment(text):\n",
    "    text = [text]  # Wrap input text in a list (as the model expects a batch)\n",
    "    sequences = tokenizer.texts_to_sequences(text)\n",
    "    padded_sequences = pad_sequences(sequences, maxlen=max_len)  # Adjust maxlen if needed\n",
    "    predictions = model.predict(padded_sequences)\n",
    "    sentiment_classes = ['positive', 'negative', 'neutral']\n",
    "    predicted_class = sentiment_classes[predictions.argmax(axis=-1)[0]]\n",
    "    return predicted_class"
   ]
  },
  {
   "cell_type": "code",
   "execution_count": null,
   "id": "79ecf284",
   "metadata": {},
   "outputs": [],
   "source": [
    "# Get user input (to be replaced by Power BI interaction)\n",
    "user_input = \"Your text goes here\"  # Replace this with the user's input from Power BI"
   ]
  },
  {
   "cell_type": "code",
   "execution_count": null,
   "id": "8e365bc0",
   "metadata": {},
   "outputs": [],
   "source": [
    "# Perform sentiment analysis\n",
    "result = analyze_sentiment(user_input)\n",
    "print(f\"Predicted sentiment: {result}\")"
   ]
  },
  {
   "cell_type": "code",
   "execution_count": null,
   "id": "1452908c",
   "metadata": {},
   "outputs": [],
   "source": []
  }
 ],
 "metadata": {
  "kernelspec": {
   "display_name": "Python 3 (ipykernel)",
   "language": "python",
   "name": "python3"
  },
  "language_info": {
   "codemirror_mode": {
    "name": "ipython",
    "version": 3
   },
   "file_extension": ".py",
   "mimetype": "text/x-python",
   "name": "python",
   "nbconvert_exporter": "python",
   "pygments_lexer": "ipython3",
   "version": "3.11.5"
  }
 },
 "nbformat": 4,
 "nbformat_minor": 5
}
