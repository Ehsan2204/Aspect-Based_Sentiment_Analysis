{
 "cells": [
  {
   "cell_type": "code",
   "execution_count": 1,
   "id": "3dff8496",
   "metadata": {},
   "outputs": [],
   "source": [
    "import pandas as pd\n",
    "from tqdm import tqdm\n",
    "from nltk.sentiment.vader import SentimentIntensityAnalyzer\n",
    "import matplotlib.pyplot as plt"
   ]
  },
  {
   "cell_type": "code",
   "execution_count": 2,
   "id": "834313a2",
   "metadata": {},
   "outputs": [],
   "source": [
    "# Load the updated dataset\n",
    "file_path = 'updated_dataset_no_missing.csv'\n",
    "data = pd.read_csv(file_path)"
   ]
  },
  {
   "cell_type": "code",
   "execution_count": 3,
   "id": "f5fd0a54",
   "metadata": {},
   "outputs": [],
   "source": [
    "# Initialize Sentiment Intensity Analyzer\n",
    "sid = SentimentIntensityAnalyzer()"
   ]
  },
  {
   "cell_type": "code",
   "execution_count": 4,
   "id": "1b2ffc94",
   "metadata": {},
   "outputs": [],
   "source": [
    "# Function to perform sentiment analysis based on aspects\n",
    "def analyze_sentiment(row):\n",
    "    aspect_sentiments = []\n",
    "    if pd.notnull(row['Extracted_Aspects']):\n",
    "        aspects = row['Extracted_Aspects'].split(';')  # Assuming aspects are separated by ';'\n",
    "        for aspect in aspects:\n",
    "            sentiment_score = sid.polarity_scores(aspect)['compound']\n",
    "            if sentiment_score >= 0.05:\n",
    "                aspect_sentiments.append('positive')\n",
    "            elif sentiment_score <= -0.05:\n",
    "                aspect_sentiments.append('negative')\n",
    "            else:\n",
    "                aspect_sentiments.append('neutral')\n",
    "    return aspect_sentiments"
   ]
  },
  {
   "cell_type": "code",
   "execution_count": 5,
   "id": "2f0c778e",
   "metadata": {},
   "outputs": [
    {
     "name": "stderr",
     "output_type": "stream",
     "text": [
      "Performing Sentiment Analysis: 100%|██████████| 27816/27816 [00:01<00:00, 17574.40it/s]\n"
     ]
    }
   ],
   "source": [
    "# Apply sentiment analysis function to each row\n",
    "tqdm.pandas(desc=\"Performing Sentiment Analysis\")\n",
    "data['Label'] = data.progress_apply(analyze_sentiment, axis=1)"
   ]
  },
  {
   "cell_type": "code",
   "execution_count": 6,
   "id": "fc7aef54",
   "metadata": {},
   "outputs": [],
   "source": [
    "# Compare generated label with existing labels\n",
    "def compare_labels(row):\n",
    "    generated_label = row['Label']  # Assuming the sentiment column is named 'Label'\n",
    "    existing_label = row['Label (Based on Rating)']\n",
    "    return generated_label == existing_label"
   ]
  },
  {
   "cell_type": "code",
   "execution_count": 7,
   "id": "4de867af",
   "metadata": {},
   "outputs": [
    {
     "name": "stderr",
     "output_type": "stream",
     "text": [
      "Performing Sentiment Analysis: 100%|██████████| 27816/27816 [00:00<00:00, 131779.08it/s]\n"
     ]
    }
   ],
   "source": [
    "# Apply comparison function to each row\n",
    "data['Label_Comparison'] = data.progress_apply(compare_labels, axis=1)"
   ]
  },
  {
   "cell_type": "code",
   "execution_count": 8,
   "id": "16422bc7",
   "metadata": {},
   "outputs": [],
   "source": [
    "# Function to categorize aspect sentiments into 'positive', 'negative', 'neutral'\n",
    "def categorize_sentiments(row):\n",
    "    aspect_sentiments = row['Label']\n",
    "    positive = aspect_sentiments.count('positive')\n",
    "    negative = aspect_sentiments.count('negative')\n",
    "    neutral = aspect_sentiments.count('neutral')\n",
    "    if positive > negative and positive > neutral:\n",
    "        return 'positive'\n",
    "    elif negative > positive and negative > neutral:\n",
    "        return 'negative'\n",
    "    else:\n",
    "        return 'neutral'"
   ]
  },
  {
   "cell_type": "code",
   "execution_count": 9,
   "id": "85bcf194",
   "metadata": {},
   "outputs": [
    {
     "name": "stderr",
     "output_type": "stream",
     "text": [
      "Performing Sentiment Analysis: 100%|██████████| 27816/27816 [00:00<00:00, 172832.11it/s]\n"
     ]
    }
   ],
   "source": [
    "# Apply sentiment categorization function to each row\n",
    "data['Label'] = data.progress_apply(categorize_sentiments, axis=1)"
   ]
  },
  {
   "cell_type": "code",
   "execution_count": 10,
   "id": "70ac54b8",
   "metadata": {},
   "outputs": [],
   "source": [
    "# Calculate comparison counts\n",
    "comparison_counts = data['Label_Comparison'].value_counts()"
   ]
  },
  {
   "cell_type": "code",
   "execution_count": 11,
   "id": "d7cc22b5",
   "metadata": {},
   "outputs": [
    {
     "data": {
      "image/png": "[encoded data removed]",
      "text/plain": [
       "<Figure size 800x600 with 1 Axes>"
      ]
     },
     "metadata": {},
     "output_type": "display_data"
    }
   ],
   "source": [
    "# Plotting the comparison\n",
    "plt.figure(figsize=(8, 6))\n",
    "comparison_counts.plot(kind='bar', color='skyblue')\n",
    "plt.title('Comparison between Generated Label and Label (Based on Rating)')\n",
    "plt.xlabel('Comparison')\n",
    "plt.ylabel('Count')\n",
    "plt.xticks(rotation=0)\n",
    "plt.tight_layout()"
   ]
  },
  {
   "cell_type": "code",
   "execution_count": 12,
   "id": "4d2f6320",
   "metadata": {},
   "outputs": [],
   "source": [
    "# Save the updated dataset to a new CSV file\n",
    "output_file_path = 'dataset_with_sentiment.csv'\n",
    "data.to_csv(output_file_path, index=False)"
   ]
  },
  {
   "cell_type": "code",
   "execution_count": null,
   "id": "4a06ad8b",
   "metadata": {},
   "outputs": [],
   "source": []
  }
 ],
 "metadata": {
  "kernelspec": {
   "display_name": "Python 3 (ipykernel)",
   "language": "python",
   "name": "python3"
  },
  "language_info": {
   "codemirror_mode": {
    "name": "ipython",
    "version": 3
   },
   "file_extension": ".py",
   "mimetype": "text/x-python",
   "name": "python",
   "nbconvert_exporter": "python",
   "pygments_lexer": "ipython3",
   "version": "3.11.5"
  }
 },
 "nbformat": 4,
 "nbformat_minor": 5
}
