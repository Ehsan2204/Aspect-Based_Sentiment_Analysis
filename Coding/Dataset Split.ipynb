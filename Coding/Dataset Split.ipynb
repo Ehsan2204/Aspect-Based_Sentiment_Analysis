{
 "cells": [
  {
   "cell_type": "code",
   "execution_count": 3,
   "id": "6d6d7c2a",
   "metadata": {},
   "outputs": [],
   "source": [
    "import pandas as pd\n",
    "import math\n",
    "\n",
    "# Load the original CSV dataset\n",
    "df = pd.read_csv('preprocessed_data.csv')\n",
    "\n",
    "# Calculate the number of rows in each split (rounding up to ensure all rows are included)\n",
    "rows_per_split = math.ceil(len(df) / 10)\n",
    "\n",
    "# Split the dataset into 10 parts\n",
    "splits = [df.iloc[i*rows_per_split:(i+1)*rows_per_split] for i in range(10)]\n",
    "\n",
    "# Write each split to a new CSV file\n",
    "for i, split in enumerate(splits):\n",
    "    split.to_csv(f'split{i+1}.csv', index=False)"
   ]
  },
  {
   "cell_type": "code",
   "execution_count": null,
   "id": "4a4f4edd",
   "metadata": {},
   "outputs": [],
   "source": []
  }
 ],
 "metadata": {
  "kernelspec": {
   "display_name": "Python 3 (ipykernel)",
   "language": "python",
   "name": "python3"
  },
  "language_info": {
   "codemirror_mode": {
    "name": "ipython",
    "version": 3
   },
   "file_extension": ".py",
   "mimetype": "text/x-python",
   "name": "python",
   "nbconvert_exporter": "python",
   "pygments_lexer": "ipython3",
   "version": "3.11.5"
  }
 },
 "nbformat": 4,
 "nbformat_minor": 5
}
